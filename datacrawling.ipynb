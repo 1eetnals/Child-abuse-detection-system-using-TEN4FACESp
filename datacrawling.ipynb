{
  "nbformat": 4,
  "nbformat_minor": 0,
  "metadata": {
    "colab": {
      "name": "datacrawling.ipynb",
      "provenance": [],
      "collapsed_sections": [],
      "include_colab_link": true
    },
    "kernelspec": {
      "name": "python3",
      "display_name": "Python 3"
    },
    "language_info": {
      "name": "python"
    }
  },
  "cells": [
    {
      "cell_type": "markdown",
      "metadata": {
        "id": "view-in-github",
        "colab_type": "text"
      },
      "source": [
        "<a href=\"https://colab.research.google.com/github/1eetnals/Child-abuse-detection-system-using-TEN4FACESp/blob/main/datacrawling.ipynb\" target=\"_parent\"><img src=\"https://colab.research.google.com/assets/colab-badge.svg\" alt=\"Open In Colab\"/></a>"
      ]
    },
    {
      "cell_type": "markdown",
      "source": [
        "## visual studio에서 실행: \n",
        "* 내 visual studio에 따라 조금씩의 코드 수정있음.\n",
        "\n",
        "* 구글에서 자동으로 검색 -> 스크롤을 아래까지 함(결과더보기 버튼이 있을경우 그 버튼을 누르고 계속 진행) -> 끝까지 가면 다시 위로 올라감 -> 해당 사진 클릭 -> 큰 사진이 뜨면 그것을 저장함\n",
        "\n",
        "* 단순히 검색어 입력시 뜨는 사진 전부를 크롤링 하는 것, 엉뚱한 사진 제거는 일일히 해야함. 크기가 작거나, 깨지거나, 같은 사진이 있는 경우 filtering해야"
      ],
      "metadata": {
        "id": "b7Het8JswACi"
      }
    },
    {
      "cell_type": "code",
      "execution_count": null,
      "metadata": {
        "id": "JvJ-_We6v6Ju"
      },
      "outputs": [],
      "source": [
        "from selenium import webdriver\n",
        "from selenium.webdriver.common.keys import Keys\n",
        "import time\n",
        "import urllib.request\n",
        "\n",
        "driver = webdriver.Chrome()\n",
        "driver.get(\"https://www.google.co.kr/imghp?hl=ko&ogbl\")  #google image 검색\n",
        "elem = driver.find_element_by_name(\"q\")  #site html확인시 ctrl shift i\n",
        "elem.send_keys(\"ear\")  #이름 치기\n",
        "elem.send_keys(Keys.RETURN)   #엔터키치는것\n",
        "\n",
        "#스크롤해야 모든 사진들을 다운받을수있\n",
        "SCROLL_PAUSE_TIME = 1\n",
        "# Get scroll height 자바스크립트\n",
        "last_height = driver.execute_script(\"return document.body.scrollHeight\")\n",
        "while True:\n",
        "    # Scroll down to bottom 브라우저 끝까지 스크롤 내리겠다\n",
        "    driver.execute_script(\"window.scrollTo(0, document.body.scrollHeight);\")\n",
        "    # Wait to load page 0.5초동안 페이지가 로딩될때까지 기다림\n",
        "    time.sleep(SCROLL_PAUSE_TIME)\n",
        "    # Calculate new scroll height and compare with last scroll height 브라우저 높이 구해서 새로운 높이로 \n",
        "    new_height = driver.execute_script(\"return document.body.scrollHeight\")\n",
        "    if new_height == last_height: #내렸을때 나오는게 더 없으면(끝까지 내려감)\n",
        "        try:\n",
        "            driver.find_element_by_css_selector(\".mye4qd\").click()  #결과더보기 버튼 클릭하기\n",
        "        except:\n",
        "            break  #버튼 없으면 멈춤 \n",
        "    last_height = new_height\n",
        "\n",
        "images = driver.find_elements_by_css_selector(\".rg_i.Q4LuWd\")#작은 이미지들이 리스트로\n",
        "count=1\n",
        "for image in images:\n",
        "    try:\n",
        "        image.click()  #이미지선택#클릭\n",
        "        time.sleep(2) #3초정도 쉬도록\n",
        "        #큰이미지 선택해서 그 이미지 주소를 알고 다운\n",
        "        imgUrl = driver.find_element_by_xpath('/html/body/div[2]/c-wiz/div[3]/div[2]/div[3]/div/div/div[3]/div[2]/c-wiz/div/div[1]/div[1]/div[2]/div/a/img').get_attribute(\"src\")  #직접 html열어서 이 링크인지 확인      \n",
        "        #path = \"C:\\Users\\SuminLee\\Downloads\\crawling\\selenium\\neck\"\n",
        "        opener=urllib.request.build_opener()  #HTTPError403방지하기 위해 브라우저인거같이 속이는 header추가** 중요 아니면 에러뜸\n",
        "        opener.addheaders=[('User-Agent','Mozilla/5.0 (Windows NT 6.1; WOW64) AppleWebKit/537.36 (KHTML, like Gecko) Chrome/36.0.1941.0 Safari/537.36')]\n",
        "        urllib.request.install_opener(opener)\n",
        "        urllib.request.urlretrieve(imgUrl, \"ear\"+str(count)+\".jpg\")\n",
        "        count=count+1\n",
        "    except:\n",
        "        pass\n",
        "\n",
        "\n",
        "driver.close()  #웹브라우저 닫아줌"
      ]
    }
  ]
}
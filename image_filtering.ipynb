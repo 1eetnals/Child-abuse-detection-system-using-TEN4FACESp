{
  "nbformat": 4,
  "nbformat_minor": 0,
  "metadata": {
    "colab": {
      "name": "image_filtering.ipynb",
      "provenance": [],
      "collapsed_sections": [],
      "include_colab_link": true
    },
    "kernelspec": {
      "name": "python3",
      "display_name": "Python 3"
    },
    "language_info": {
      "name": "python"
    }
  },
  "cells": [
    {
      "cell_type": "markdown",
      "metadata": {
        "id": "view-in-github",
        "colab_type": "text"
      },
      "source": [
        "<a href=\"https://colab.research.google.com/github/1eetnals/Child-abuse-detection-system-using-TEN4FACESp/blob/main/image_filtering.ipynb\" target=\"_parent\"><img src=\"https://colab.research.google.com/assets/colab-badge.svg\" alt=\"Open In Colab\"/></a>"
      ]
    },
    {
      "cell_type": "markdown",
      "source": [
        "## 1. 깨져있는 데이터, 해상도 설정해줘서 기준 미달하면 제거"
      ],
      "metadata": {
        "id": "xEfohvCou5z-"
      }
    },
    {
      "cell_type": "code",
      "source": [
        "from google.colab import drive\n",
        "drive.mount('/content/drive')"
      ],
      "metadata": {
        "colab": {
          "base_uri": "https://localhost:8080/"
        },
        "id": "oZqocV006cwY",
        "outputId": "eb46af72-26de-432c-afe8-31c4cdcc6ec0"
      },
      "execution_count": null,
      "outputs": [
        {
          "output_type": "stream",
          "name": "stdout",
          "text": [
            "Drive already mounted at /content/drive; to attempt to forcibly remount, call drive.mount(\"/content/drive\", force_remount=True).\n"
          ]
        }
      ]
    },
    {
      "cell_type": "code",
      "execution_count": null,
      "metadata": {
        "id": "T27AO0AMWAvu"
      },
      "outputs": [],
      "source": [
        "import os\n",
        "import time\n",
        "import socket\n",
        "\n",
        "\n",
        "from urllib.request import urlretrieve\n",
        "from urllib.error import HTTPError, URLError\n",
        "#from selenium import webdriver\n",
        "#from selenium.common.exceptions import ElementClickInterceptedException, NoSuchElementException, \\\n",
        "    #ElementNotInteractableException\n",
        "from PIL import Image\n",
        "#from pygame import mixer\n",
        "\n",
        "path = '/content/drive/Shareddrives/BME캡스톤/data/practice_none'\n",
        "date = \"arm\"\n",
        "def filtering():\n",
        "    print(\"ㅡ 필터링 시작 ㅡ\")\n",
        "    filtered_count = 0\n",
        "    dir_name = f\"{path}/{date}\"\n",
        "    for index, file_name in enumerate(os.listdir(dir_name)):\n",
        "        try:\n",
        "            file_path = os.path.join(dir_name, file_name)\n",
        "            img = Image.open(file_path)\n",
        "\n",
        "            # 이미지 해상도의 가로와 세로가 모두 350이하인 경우\n",
        "            if img.width < 351 and img.height < 351:\n",
        "                img.close()\n",
        "                os.remove(file_path)\n",
        "                print(f\"{index} 번째 사진 삭제\")\n",
        "                filtered_count += 1\n",
        "\n",
        "        # 이미지 파일이 깨져있는 경우\n",
        "        except OSError:\n",
        "            os.remove(file_path)\n",
        "            filtered_count += 1\n",
        "\n",
        "    print(f\"ㅡ 필터링 종료 (총 갯수: {227 - filtered_count}) ㅡ\")"
      ]
    },
    {
      "cell_type": "code",
      "source": [
        "filtering()"
      ],
      "metadata": {
        "colab": {
          "base_uri": "https://localhost:8080/"
        },
        "id": "hy9QifvjayqH",
        "outputId": "4affb7ff-7f43-4236-9b01-40b24ad7185f"
      },
      "execution_count": null,
      "outputs": [
        {
          "output_type": "stream",
          "name": "stdout",
          "text": [
            "ㅡ 필터링 시작 ㅡ\n",
            "ㅡ 필터링 종료 (총 갯수: 227) ㅡ\n"
          ]
        }
      ]
    },
    {
      "cell_type": "code",
      "source": [
        ""
      ],
      "metadata": {
        "id": "ZtAok-uXm_it"
      },
      "execution_count": null,
      "outputs": []
    },
    {
      "cell_type": "markdown",
      "source": [
        "## 2. 같은 이미지 확인 코드"
      ],
      "metadata": {
        "id": "YIzkdkkOvEcm"
      }
    },
    {
      "cell_type": "code",
      "source": [
        "import os\n",
        "photo_list = []\n",
        "\n",
        "for f in os.listdir('/content/drive/Shareddrives/BME캡스톤/data/strawberry'):\n",
        "    if 'jpg' in f:\n",
        "        photo_list.append(f)"
      ],
      "metadata": {
        "id": "pteqNUeknBgZ"
      },
      "execution_count": null,
      "outputs": []
    },
    {
      "cell_type": "code",
      "source": [
        "photo_list"
      ],
      "metadata": {
        "id": "evC0dUXGoGUQ",
        "colab": {
          "base_uri": "https://localhost:8080/"
        },
        "outputId": "002ca274-01bd-4ec9-a07e-45b2a1cae4ac"
      },
      "execution_count": null,
      "outputs": [
        {
          "output_type": "execute_result",
          "data": {
            "text/plain": [
              "['20220213000003506 (1).jpg',\n",
              " 'dsjkeksn.jpg',\n",
              " 'images.jpg',\n",
              " '99FEB03C5FCE37911C.jpg',\n",
              " 'images (1).jpg',\n",
              " '다운로드.jpg',\n",
              " 'download.jpg']"
            ]
          },
          "metadata": {},
          "execution_count": 46
        }
      ]
    },
    {
      "cell_type": "code",
      "source": [
        "photo_size = list(map(lambda x: os.path.getsize('/content/drive/Shareddrives/BME캡스톤/data/strawberry' + '/' + x), photo_list))"
      ],
      "metadata": {
        "id": "vNn_YpYXnC4B"
      },
      "execution_count": null,
      "outputs": []
    },
    {
      "cell_type": "code",
      "source": [
        "photo_size"
      ],
      "metadata": {
        "id": "L817M_xdoBCp",
        "colab": {
          "base_uri": "https://localhost:8080/"
        },
        "outputId": "215622dc-eb80-48e3-fad3-901ee599a63a"
      },
      "execution_count": null,
      "outputs": [
        {
          "output_type": "execute_result",
          "data": {
            "text/plain": [
              "[90555, 90555, 3863, 148498, 9401, 7140, 7140]"
            ]
          },
          "metadata": {},
          "execution_count": 48
        }
      ]
    },
    {
      "cell_type": "code",
      "source": [
        "# Find Same Photos\n",
        "import pandas as pd\n",
        "fsp = pd.DataFrame({'filename_raw':photo_list, 'size':photo_size})\n",
        "\n",
        "print('사진의 갯수 :', len(fsp))"
      ],
      "metadata": {
        "id": "MNnMBIKRnFn8",
        "colab": {
          "base_uri": "https://localhost:8080/"
        },
        "outputId": "5b5996e1-9cb8-47c8-abe7-9c2136164a52"
      },
      "execution_count": null,
      "outputs": [
        {
          "output_type": "stream",
          "name": "stdout",
          "text": [
            "사진의 갯수 : 7\n"
          ]
        }
      ]
    },
    {
      "cell_type": "code",
      "source": [
        "import re   # 정규표현식\n",
        "com = re.compile(' \\d')\n",
        "fsp['filename'] = list(map(lambda x: com.sub('', x), photo_list))"
      ],
      "metadata": {
        "id": "2DD2-QlsnP7T"
      },
      "execution_count": null,
      "outputs": []
    },
    {
      "cell_type": "code",
      "source": [
        "fsp"
      ],
      "metadata": {
        "id": "Q1lE4BeZolnx",
        "colab": {
          "base_uri": "https://localhost:8080/",
          "height": 269
        },
        "outputId": "d7b707f4-d7ea-41db-965a-be1d92fa4158"
      },
      "execution_count": null,
      "outputs": [
        {
          "output_type": "execute_result",
          "data": {
            "text/plain": [
              "                filename_raw    size                   filename\n",
              "0  20220213000003506 (1).jpg   90555  20220213000003506 (1).jpg\n",
              "1               dsjkeksn.jpg   90555               dsjkeksn.jpg\n",
              "2                 images.jpg    3863                 images.jpg\n",
              "3     99FEB03C5FCE37911C.jpg  148498     99FEB03C5FCE37911C.jpg\n",
              "4             images (1).jpg    9401             images (1).jpg\n",
              "5              다운로드.jpg    7140              다운로드.jpg\n",
              "6               download.jpg    7140               download.jpg"
            ],
            "text/html": [
              "\n",
              "  <div id=\"df-855b905e-4dbf-4159-bf1d-ea81c319c7ba\">\n",
              "    <div class=\"colab-df-container\">\n",
              "      <div>\n",
              "<style scoped>\n",
              "    .dataframe tbody tr th:only-of-type {\n",
              "        vertical-align: middle;\n",
              "    }\n",
              "\n",
              "    .dataframe tbody tr th {\n",
              "        vertical-align: top;\n",
              "    }\n",
              "\n",
              "    .dataframe thead th {\n",
              "        text-align: right;\n",
              "    }\n",
              "</style>\n",
              "<table border=\"1\" class=\"dataframe\">\n",
              "  <thead>\n",
              "    <tr style=\"text-align: right;\">\n",
              "      <th></th>\n",
              "      <th>filename_raw</th>\n",
              "      <th>size</th>\n",
              "      <th>filename</th>\n",
              "    </tr>\n",
              "  </thead>\n",
              "  <tbody>\n",
              "    <tr>\n",
              "      <th>0</th>\n",
              "      <td>20220213000003506 (1).jpg</td>\n",
              "      <td>90555</td>\n",
              "      <td>20220213000003506 (1).jpg</td>\n",
              "    </tr>\n",
              "    <tr>\n",
              "      <th>1</th>\n",
              "      <td>dsjkeksn.jpg</td>\n",
              "      <td>90555</td>\n",
              "      <td>dsjkeksn.jpg</td>\n",
              "    </tr>\n",
              "    <tr>\n",
              "      <th>2</th>\n",
              "      <td>images.jpg</td>\n",
              "      <td>3863</td>\n",
              "      <td>images.jpg</td>\n",
              "    </tr>\n",
              "    <tr>\n",
              "      <th>3</th>\n",
              "      <td>99FEB03C5FCE37911C.jpg</td>\n",
              "      <td>148498</td>\n",
              "      <td>99FEB03C5FCE37911C.jpg</td>\n",
              "    </tr>\n",
              "    <tr>\n",
              "      <th>4</th>\n",
              "      <td>images (1).jpg</td>\n",
              "      <td>9401</td>\n",
              "      <td>images (1).jpg</td>\n",
              "    </tr>\n",
              "    <tr>\n",
              "      <th>5</th>\n",
              "      <td>다운로드.jpg</td>\n",
              "      <td>7140</td>\n",
              "      <td>다운로드.jpg</td>\n",
              "    </tr>\n",
              "    <tr>\n",
              "      <th>6</th>\n",
              "      <td>download.jpg</td>\n",
              "      <td>7140</td>\n",
              "      <td>download.jpg</td>\n",
              "    </tr>\n",
              "  </tbody>\n",
              "</table>\n",
              "</div>\n",
              "      <button class=\"colab-df-convert\" onclick=\"convertToInteractive('df-855b905e-4dbf-4159-bf1d-ea81c319c7ba')\"\n",
              "              title=\"Convert this dataframe to an interactive table.\"\n",
              "              style=\"display:none;\">\n",
              "        \n",
              "  <svg xmlns=\"http://www.w3.org/2000/svg\" height=\"24px\"viewBox=\"0 0 24 24\"\n",
              "       width=\"24px\">\n",
              "    <path d=\"M0 0h24v24H0V0z\" fill=\"none\"/>\n",
              "    <path d=\"M18.56 5.44l.94 2.06.94-2.06 2.06-.94-2.06-.94-.94-2.06-.94 2.06-2.06.94zm-11 1L8.5 8.5l.94-2.06 2.06-.94-2.06-.94L8.5 2.5l-.94 2.06-2.06.94zm10 10l.94 2.06.94-2.06 2.06-.94-2.06-.94-.94-2.06-.94 2.06-2.06.94z\"/><path d=\"M17.41 7.96l-1.37-1.37c-.4-.4-.92-.59-1.43-.59-.52 0-1.04.2-1.43.59L10.3 9.45l-7.72 7.72c-.78.78-.78 2.05 0 2.83L4 21.41c.39.39.9.59 1.41.59.51 0 1.02-.2 1.41-.59l7.78-7.78 2.81-2.81c.8-.78.8-2.07 0-2.86zM5.41 20L4 18.59l7.72-7.72 1.47 1.35L5.41 20z\"/>\n",
              "  </svg>\n",
              "      </button>\n",
              "      \n",
              "  <style>\n",
              "    .colab-df-container {\n",
              "      display:flex;\n",
              "      flex-wrap:wrap;\n",
              "      gap: 12px;\n",
              "    }\n",
              "\n",
              "    .colab-df-convert {\n",
              "      background-color: #E8F0FE;\n",
              "      border: none;\n",
              "      border-radius: 50%;\n",
              "      cursor: pointer;\n",
              "      display: none;\n",
              "      fill: #1967D2;\n",
              "      height: 32px;\n",
              "      padding: 0 0 0 0;\n",
              "      width: 32px;\n",
              "    }\n",
              "\n",
              "    .colab-df-convert:hover {\n",
              "      background-color: #E2EBFA;\n",
              "      box-shadow: 0px 1px 2px rgba(60, 64, 67, 0.3), 0px 1px 3px 1px rgba(60, 64, 67, 0.15);\n",
              "      fill: #174EA6;\n",
              "    }\n",
              "\n",
              "    [theme=dark] .colab-df-convert {\n",
              "      background-color: #3B4455;\n",
              "      fill: #D2E3FC;\n",
              "    }\n",
              "\n",
              "    [theme=dark] .colab-df-convert:hover {\n",
              "      background-color: #434B5C;\n",
              "      box-shadow: 0px 1px 3px 1px rgba(0, 0, 0, 0.15);\n",
              "      filter: drop-shadow(0px 1px 2px rgba(0, 0, 0, 0.3));\n",
              "      fill: #FFFFFF;\n",
              "    }\n",
              "  </style>\n",
              "\n",
              "      <script>\n",
              "        const buttonEl =\n",
              "          document.querySelector('#df-855b905e-4dbf-4159-bf1d-ea81c319c7ba button.colab-df-convert');\n",
              "        buttonEl.style.display =\n",
              "          google.colab.kernel.accessAllowed ? 'block' : 'none';\n",
              "\n",
              "        async function convertToInteractive(key) {\n",
              "          const element = document.querySelector('#df-855b905e-4dbf-4159-bf1d-ea81c319c7ba');\n",
              "          const dataTable =\n",
              "            await google.colab.kernel.invokeFunction('convertToInteractive',\n",
              "                                                     [key], {});\n",
              "          if (!dataTable) return;\n",
              "\n",
              "          const docLinkHtml = 'Like what you see? Visit the ' +\n",
              "            '<a target=\"_blank\" href=https://colab.research.google.com/notebooks/data_table.ipynb>data table notebook</a>'\n",
              "            + ' to learn more about interactive tables.';\n",
              "          element.innerHTML = '';\n",
              "          dataTable['output_type'] = 'display_data';\n",
              "          await google.colab.output.renderOutput(dataTable, element);\n",
              "          const docLink = document.createElement('div');\n",
              "          docLink.innerHTML = docLinkHtml;\n",
              "          element.appendChild(docLink);\n",
              "        }\n",
              "      </script>\n",
              "    </div>\n",
              "  </div>\n",
              "  "
            ]
          },
          "metadata": {},
          "execution_count": 51
        }
      ]
    },
    {
      "cell_type": "code",
      "source": [
        "# Photo Value Counts\n",
        "pvc = pd.DataFrame({'filename':fsp['filename'].value_counts().index, 'fn_counts':fsp['filename'].value_counts().values})   \n",
        "psvc = pd.DataFrame({'size':fsp['size'].value_counts().index, 'size_counts':fsp['size'].value_counts().values})   \n",
        "\n",
        "fsp = pd.merge(fsp, pvc, how = 'left', on = 'filename')\n",
        "fsp = pd.merge(fsp, psvc, how = 'left', on = 'size')\n",
        "\n",
        "fsp.sample(2)"
      ],
      "metadata": {
        "id": "d-pNiZSqnRhK",
        "colab": {
          "base_uri": "https://localhost:8080/",
          "height": 112
        },
        "outputId": "ccd842c3-55af-4a86-bc0c-d068bb64a18e"
      },
      "execution_count": null,
      "outputs": [
        {
          "output_type": "execute_result",
          "data": {
            "text/plain": [
              "    filename_raw  size       filename  fn_counts  size_counts\n",
              "6   download.jpg  7140   download.jpg          1            2\n",
              "5  다운로드.jpg  7140  다운로드.jpg          1            2"
            ],
            "text/html": [
              "\n",
              "  <div id=\"df-777d2d41-35e3-4f8a-b206-ee3289c29c83\">\n",
              "    <div class=\"colab-df-container\">\n",
              "      <div>\n",
              "<style scoped>\n",
              "    .dataframe tbody tr th:only-of-type {\n",
              "        vertical-align: middle;\n",
              "    }\n",
              "\n",
              "    .dataframe tbody tr th {\n",
              "        vertical-align: top;\n",
              "    }\n",
              "\n",
              "    .dataframe thead th {\n",
              "        text-align: right;\n",
              "    }\n",
              "</style>\n",
              "<table border=\"1\" class=\"dataframe\">\n",
              "  <thead>\n",
              "    <tr style=\"text-align: right;\">\n",
              "      <th></th>\n",
              "      <th>filename_raw</th>\n",
              "      <th>size</th>\n",
              "      <th>filename</th>\n",
              "      <th>fn_counts</th>\n",
              "      <th>size_counts</th>\n",
              "    </tr>\n",
              "  </thead>\n",
              "  <tbody>\n",
              "    <tr>\n",
              "      <th>6</th>\n",
              "      <td>download.jpg</td>\n",
              "      <td>7140</td>\n",
              "      <td>download.jpg</td>\n",
              "      <td>1</td>\n",
              "      <td>2</td>\n",
              "    </tr>\n",
              "    <tr>\n",
              "      <th>5</th>\n",
              "      <td>다운로드.jpg</td>\n",
              "      <td>7140</td>\n",
              "      <td>다운로드.jpg</td>\n",
              "      <td>1</td>\n",
              "      <td>2</td>\n",
              "    </tr>\n",
              "  </tbody>\n",
              "</table>\n",
              "</div>\n",
              "      <button class=\"colab-df-convert\" onclick=\"convertToInteractive('df-777d2d41-35e3-4f8a-b206-ee3289c29c83')\"\n",
              "              title=\"Convert this dataframe to an interactive table.\"\n",
              "              style=\"display:none;\">\n",
              "        \n",
              "  <svg xmlns=\"http://www.w3.org/2000/svg\" height=\"24px\"viewBox=\"0 0 24 24\"\n",
              "       width=\"24px\">\n",
              "    <path d=\"M0 0h24v24H0V0z\" fill=\"none\"/>\n",
              "    <path d=\"M18.56 5.44l.94 2.06.94-2.06 2.06-.94-2.06-.94-.94-2.06-.94 2.06-2.06.94zm-11 1L8.5 8.5l.94-2.06 2.06-.94-2.06-.94L8.5 2.5l-.94 2.06-2.06.94zm10 10l.94 2.06.94-2.06 2.06-.94-2.06-.94-.94-2.06-.94 2.06-2.06.94z\"/><path d=\"M17.41 7.96l-1.37-1.37c-.4-.4-.92-.59-1.43-.59-.52 0-1.04.2-1.43.59L10.3 9.45l-7.72 7.72c-.78.78-.78 2.05 0 2.83L4 21.41c.39.39.9.59 1.41.59.51 0 1.02-.2 1.41-.59l7.78-7.78 2.81-2.81c.8-.78.8-2.07 0-2.86zM5.41 20L4 18.59l7.72-7.72 1.47 1.35L5.41 20z\"/>\n",
              "  </svg>\n",
              "      </button>\n",
              "      \n",
              "  <style>\n",
              "    .colab-df-container {\n",
              "      display:flex;\n",
              "      flex-wrap:wrap;\n",
              "      gap: 12px;\n",
              "    }\n",
              "\n",
              "    .colab-df-convert {\n",
              "      background-color: #E8F0FE;\n",
              "      border: none;\n",
              "      border-radius: 50%;\n",
              "      cursor: pointer;\n",
              "      display: none;\n",
              "      fill: #1967D2;\n",
              "      height: 32px;\n",
              "      padding: 0 0 0 0;\n",
              "      width: 32px;\n",
              "    }\n",
              "\n",
              "    .colab-df-convert:hover {\n",
              "      background-color: #E2EBFA;\n",
              "      box-shadow: 0px 1px 2px rgba(60, 64, 67, 0.3), 0px 1px 3px 1px rgba(60, 64, 67, 0.15);\n",
              "      fill: #174EA6;\n",
              "    }\n",
              "\n",
              "    [theme=dark] .colab-df-convert {\n",
              "      background-color: #3B4455;\n",
              "      fill: #D2E3FC;\n",
              "    }\n",
              "\n",
              "    [theme=dark] .colab-df-convert:hover {\n",
              "      background-color: #434B5C;\n",
              "      box-shadow: 0px 1px 3px 1px rgba(0, 0, 0, 0.15);\n",
              "      filter: drop-shadow(0px 1px 2px rgba(0, 0, 0, 0.3));\n",
              "      fill: #FFFFFF;\n",
              "    }\n",
              "  </style>\n",
              "\n",
              "      <script>\n",
              "        const buttonEl =\n",
              "          document.querySelector('#df-777d2d41-35e3-4f8a-b206-ee3289c29c83 button.colab-df-convert');\n",
              "        buttonEl.style.display =\n",
              "          google.colab.kernel.accessAllowed ? 'block' : 'none';\n",
              "\n",
              "        async function convertToInteractive(key) {\n",
              "          const element = document.querySelector('#df-777d2d41-35e3-4f8a-b206-ee3289c29c83');\n",
              "          const dataTable =\n",
              "            await google.colab.kernel.invokeFunction('convertToInteractive',\n",
              "                                                     [key], {});\n",
              "          if (!dataTable) return;\n",
              "\n",
              "          const docLinkHtml = 'Like what you see? Visit the ' +\n",
              "            '<a target=\"_blank\" href=https://colab.research.google.com/notebooks/data_table.ipynb>data table notebook</a>'\n",
              "            + ' to learn more about interactive tables.';\n",
              "          element.innerHTML = '';\n",
              "          dataTable['output_type'] = 'display_data';\n",
              "          await google.colab.output.renderOutput(dataTable, element);\n",
              "          const docLink = document.createElement('div');\n",
              "          docLink.innerHTML = docLinkHtml;\n",
              "          element.appendChild(docLink);\n",
              "        }\n",
              "      </script>\n",
              "    </div>\n",
              "  </div>\n",
              "  "
            ]
          },
          "metadata": {},
          "execution_count": 52
        }
      ]
    },
    {
      "cell_type": "code",
      "source": [
        "for i in range(len(fsp)):\n",
        "    if (fsp['fn_counts'][i] > 1) & (fsp['size_counts'][i] == 1):\n",
        "        print(i)"
      ],
      "metadata": {
        "id": "oUnAi_4tnX6P"
      },
      "execution_count": null,
      "outputs": []
    },
    {
      "cell_type": "code",
      "source": [
        "# Find Same Phto_Not Same Name\n",
        "fsp_nsn = fsp.sort_values(['filename_raw'], ascending = False).drop_duplicates(['filename'], keep = 'first')"
      ],
      "metadata": {
        "id": "P3zxAxljnZJ9"
      },
      "execution_count": null,
      "outputs": []
    },
    {
      "cell_type": "code",
      "source": [
        "print('남은 사진의 갯수 : {}\\n지워진 사진의 갯수 : {}'.format(len(fsp_nsn), len(fsp)-len(fsp_nsn)))"
      ],
      "metadata": {
        "id": "lgoVeJGTnaWX",
        "colab": {
          "base_uri": "https://localhost:8080/"
        },
        "outputId": "b37c21b0-ddd9-47d6-d218-3c214f2d2128"
      },
      "execution_count": null,
      "outputs": [
        {
          "output_type": "stream",
          "name": "stdout",
          "text": [
            "남은 사진의 갯수 : 7\n",
            "지워진 사진의 갯수 : 0\n"
          ]
        }
      ]
    },
    {
      "cell_type": "code",
      "source": [
        "pvc_nsn = pd.DataFrame({'filename':fsp_nsn['filename'].value_counts().index, 'fn_counts_nsn':fsp_nsn['filename'].value_counts().values})   \n",
        "psvc_nsn = pd.DataFrame({'size':fsp_nsn['size'].value_counts().index, 'size_counts_nsn':fsp_nsn['size'].value_counts().values})   \n",
        "\n",
        "fsp_nsn = pd.merge(fsp_nsn, pvc_nsn, how = 'left', on = 'filename')\n",
        "fsp_nsn = pd.merge(fsp_nsn, psvc_nsn, how = 'left', on = 'size')"
      ],
      "metadata": {
        "id": "M0LqdvtundOO"
      },
      "execution_count": null,
      "outputs": []
    },
    {
      "cell_type": "code",
      "source": [
        "fsp_nsn[fsp_nsn['fn_counts_nsn']!=1]"
      ],
      "metadata": {
        "id": "jX3AIZflneby",
        "colab": {
          "base_uri": "https://localhost:8080/",
          "height": 114
        },
        "outputId": "e58ba82a-10bc-4416-cbd8-9f67c495beeb"
      },
      "execution_count": null,
      "outputs": [
        {
          "output_type": "execute_result",
          "data": {
            "text/plain": [
              "Empty DataFrame\n",
              "Columns: [filename_raw, size, filename, fn_counts, size_counts, fn_counts_nsn, size_counts_nsn]\n",
              "Index: []"
            ],
            "text/html": [
              "\n",
              "  <div id=\"df-a20cda19-a652-4a5f-ab7c-978d3fe48b7b\">\n",
              "    <div class=\"colab-df-container\">\n",
              "      <div>\n",
              "<style scoped>\n",
              "    .dataframe tbody tr th:only-of-type {\n",
              "        vertical-align: middle;\n",
              "    }\n",
              "\n",
              "    .dataframe tbody tr th {\n",
              "        vertical-align: top;\n",
              "    }\n",
              "\n",
              "    .dataframe thead th {\n",
              "        text-align: right;\n",
              "    }\n",
              "</style>\n",
              "<table border=\"1\" class=\"dataframe\">\n",
              "  <thead>\n",
              "    <tr style=\"text-align: right;\">\n",
              "      <th></th>\n",
              "      <th>filename_raw</th>\n",
              "      <th>size</th>\n",
              "      <th>filename</th>\n",
              "      <th>fn_counts</th>\n",
              "      <th>size_counts</th>\n",
              "      <th>fn_counts_nsn</th>\n",
              "      <th>size_counts_nsn</th>\n",
              "    </tr>\n",
              "  </thead>\n",
              "  <tbody>\n",
              "  </tbody>\n",
              "</table>\n",
              "</div>\n",
              "      <button class=\"colab-df-convert\" onclick=\"convertToInteractive('df-a20cda19-a652-4a5f-ab7c-978d3fe48b7b')\"\n",
              "              title=\"Convert this dataframe to an interactive table.\"\n",
              "              style=\"display:none;\">\n",
              "        \n",
              "  <svg xmlns=\"http://www.w3.org/2000/svg\" height=\"24px\"viewBox=\"0 0 24 24\"\n",
              "       width=\"24px\">\n",
              "    <path d=\"M0 0h24v24H0V0z\" fill=\"none\"/>\n",
              "    <path d=\"M18.56 5.44l.94 2.06.94-2.06 2.06-.94-2.06-.94-.94-2.06-.94 2.06-2.06.94zm-11 1L8.5 8.5l.94-2.06 2.06-.94-2.06-.94L8.5 2.5l-.94 2.06-2.06.94zm10 10l.94 2.06.94-2.06 2.06-.94-2.06-.94-.94-2.06-.94 2.06-2.06.94z\"/><path d=\"M17.41 7.96l-1.37-1.37c-.4-.4-.92-.59-1.43-.59-.52 0-1.04.2-1.43.59L10.3 9.45l-7.72 7.72c-.78.78-.78 2.05 0 2.83L4 21.41c.39.39.9.59 1.41.59.51 0 1.02-.2 1.41-.59l7.78-7.78 2.81-2.81c.8-.78.8-2.07 0-2.86zM5.41 20L4 18.59l7.72-7.72 1.47 1.35L5.41 20z\"/>\n",
              "  </svg>\n",
              "      </button>\n",
              "      \n",
              "  <style>\n",
              "    .colab-df-container {\n",
              "      display:flex;\n",
              "      flex-wrap:wrap;\n",
              "      gap: 12px;\n",
              "    }\n",
              "\n",
              "    .colab-df-convert {\n",
              "      background-color: #E8F0FE;\n",
              "      border: none;\n",
              "      border-radius: 50%;\n",
              "      cursor: pointer;\n",
              "      display: none;\n",
              "      fill: #1967D2;\n",
              "      height: 32px;\n",
              "      padding: 0 0 0 0;\n",
              "      width: 32px;\n",
              "    }\n",
              "\n",
              "    .colab-df-convert:hover {\n",
              "      background-color: #E2EBFA;\n",
              "      box-shadow: 0px 1px 2px rgba(60, 64, 67, 0.3), 0px 1px 3px 1px rgba(60, 64, 67, 0.15);\n",
              "      fill: #174EA6;\n",
              "    }\n",
              "\n",
              "    [theme=dark] .colab-df-convert {\n",
              "      background-color: #3B4455;\n",
              "      fill: #D2E3FC;\n",
              "    }\n",
              "\n",
              "    [theme=dark] .colab-df-convert:hover {\n",
              "      background-color: #434B5C;\n",
              "      box-shadow: 0px 1px 3px 1px rgba(0, 0, 0, 0.15);\n",
              "      filter: drop-shadow(0px 1px 2px rgba(0, 0, 0, 0.3));\n",
              "      fill: #FFFFFF;\n",
              "    }\n",
              "  </style>\n",
              "\n",
              "      <script>\n",
              "        const buttonEl =\n",
              "          document.querySelector('#df-a20cda19-a652-4a5f-ab7c-978d3fe48b7b button.colab-df-convert');\n",
              "        buttonEl.style.display =\n",
              "          google.colab.kernel.accessAllowed ? 'block' : 'none';\n",
              "\n",
              "        async function convertToInteractive(key) {\n",
              "          const element = document.querySelector('#df-a20cda19-a652-4a5f-ab7c-978d3fe48b7b');\n",
              "          const dataTable =\n",
              "            await google.colab.kernel.invokeFunction('convertToInteractive',\n",
              "                                                     [key], {});\n",
              "          if (!dataTable) return;\n",
              "\n",
              "          const docLinkHtml = 'Like what you see? Visit the ' +\n",
              "            '<a target=\"_blank\" href=https://colab.research.google.com/notebooks/data_table.ipynb>data table notebook</a>'\n",
              "            + ' to learn more about interactive tables.';\n",
              "          element.innerHTML = '';\n",
              "          dataTable['output_type'] = 'display_data';\n",
              "          await google.colab.output.renderOutput(dataTable, element);\n",
              "          const docLink = document.createElement('div');\n",
              "          docLink.innerHTML = docLinkHtml;\n",
              "          element.appendChild(docLink);\n",
              "        }\n",
              "      </script>\n",
              "    </div>\n",
              "  </div>\n",
              "  "
            ]
          },
          "metadata": {},
          "execution_count": 57
        }
      ]
    },
    {
      "cell_type": "code",
      "source": [
        "print('사이즈 겹치는 사진의 갯수 :', len(fsp_nsn[fsp_nsn['size_counts_nsn']!=1]))\n",
        "print('중복 사이즈의 갯수 :', len(psvc_nsn[psvc_nsn['size_counts_nsn']>1]))"
      ],
      "metadata": {
        "id": "xpPrvqYhngJG",
        "colab": {
          "base_uri": "https://localhost:8080/"
        },
        "outputId": "53d19183-0284-446c-80d8-d4c63a530993"
      },
      "execution_count": null,
      "outputs": [
        {
          "output_type": "stream",
          "name": "stdout",
          "text": [
            "사이즈 겹치는 사진의 갯수 : 4\n",
            "중복 사이즈의 갯수 : 2\n"
          ]
        }
      ]
    },
    {
      "cell_type": "code",
      "source": [
        "print(grayA.shape)\n",
        "print(grayB.shape)\n",
        "print(temp['filename_raw'][0])\n",
        "print(temp['filename_raw'][1])\n",
        "print(grayA[200])\n",
        "print(grayB[200])\n",
        "(grayA-grayB)[200]"
      ],
      "metadata": {
        "colab": {
          "base_uri": "https://localhost:8080/"
        },
        "id": "n7BzKk2g9iT5",
        "outputId": "66245a99-714f-400f-c46b-95840a2f07e2"
      },
      "execution_count": null,
      "outputs": [
        {
          "output_type": "stream",
          "name": "stdout",
          "text": [
            "(400, 690)\n",
            "(400, 690)\n",
            "dsjkeksn.jpg\n",
            "20220213000003506 (1).jpg\n",
            "[255 255 255 255 255 255 255 255 255 255 255 255 255 255 255 255 255 255\n",
            " 255 255 255 255 255 255 255 255 255 255 255 255 255 255 255 255 255 255\n",
            " 255 255 255 255 255 255 255 255 255 255 255 255 255 255 255 255 255 255\n",
            " 255 255 255 255 255 255 255 255 255 255 255 255 255 255 255 255 255 255\n",
            " 255 255 255 255 255 255 255 255 255 255 255 255 255 255 255 255 255 255\n",
            " 255 255 255 255 255 255 255 255 255 255 255 255 255 255 255 255 255 255\n",
            " 255 255 255 255 255 255 255 255 255 255 255 255 255 255 255 255 255 255\n",
            " 255 255 255 255 255 255 255 255 255 255 255 255 255 255 255 255 255 255\n",
            " 255 255 255 255 255 255 255 255 255 255 255 255 255 255 255 255 255 255\n",
            " 255 255 255 255 255 255 255 255 255 255 255 255 255 255 255 255 255 255\n",
            " 255 255 255 255 255 255 255 255 255 255 255 255 255 255 255 255 255 255\n",
            " 255 255 255 255 255 255 255 255 255 255 255 255 255 255 255 255 255 255\n",
            " 255 255 255 255 255 255 255 255 255 255 255 255 255 255 255 255 255 255\n",
            " 255 255 255 255 255 255 255 254 255 158 119 200 127 132 128  90  24  24\n",
            "  27  33  35  84  25  27  33  55  63  81  95  78  35  27  31  26  89  68\n",
            "  35  59  61  52  40  33  49  23  24  28  33 141 194 191 149  31  45  61\n",
            "  39  24  90 172 191 174  83  81  86  55  25  26  27  78 179 160 116  86\n",
            "  24  24  86 193 191 173  99  59  66  54  79 141 210 205 188 192 190 176\n",
            " 184 179 187 154 114 132  80  50  27  29  35  43  46  42  44  44  45  52\n",
            "  46 114 203 212 215 224 229 122  41  45  54  41  92 160 152 116  58  49\n",
            "  64 149 210 113  52  47  55  62  48  28  32  32  35  34  36  49  44  45\n",
            "  51  53  52  58  66  63  67  69  62  50  37  42  52  47  46  38  47  32\n",
            "  37  45  50  47  31  53  26  25  22  28  32  88  82  35  37  52  70  66\n",
            "  44  81  98  30  21  21  21  33  54  57 104 124  70  55  66 130 116  71\n",
            "  75  62  81 167 254 254 254 255 255 255 255 255 255 255 255 255 255 255\n",
            " 255 255 255 255 255 255 255 255 255 255 255 255 255 255 255 255 255 255\n",
            " 255 255 255 255 255 255 255 255 255 255 255 255 255 255 255 255 255 255\n",
            " 255 255 255 255 255 255 255 255 255 255 255 255 255 255 255 255 255 255\n",
            " 255 255 255 255 255 255 255 255 255 255 255 255 255 255 255 255 255 255\n",
            " 255 255 255 255 255 255 255 255 255 255 255 255 255 255 255 255 255 255\n",
            " 255 255 255 255 255 255 255 255 255 255 255 255 255 255 255 255 255 255\n",
            " 255 255 255 255 255 255 255 255 255 255 255 255 255 255 255 255 255 255\n",
            " 255 255 255 255 255 255 255 255 255 255 255 255 255 255 255 255 255 255\n",
            " 255 255 255 255 255 255 255 255 255 255 255 255 255 255 255 255 255 255\n",
            " 255 255 255 255 255 255 255 255 255 255 255 255 255 255 255 255 255 255\n",
            " 255 255 255 255 255 255 255 255 255 255 255 255 255 255 255 255 255 255\n",
            " 255 255 255 255 255 255 255 255 255 255 255 255 255 255 255 255 255 255\n",
            " 255 255 255 255 255 255 255 255 255 255 255 255 255 255 255 255 255 255\n",
            " 255 255 255 255 255 255]\n",
            "[255 255 255 255 255 255 255 255 255 255 255 255 255 255 255 255 255 255\n",
            " 255 255 255 255 255 255 255 255 255 255 255 255 255 255 255 255 255 255\n",
            " 255 255 255 255 255 255 255 255 255 255 255 255 255 255 255 255 255 255\n",
            " 255 255 255 255 255 255 255 255 255 255 255 255 255 255 255 255 255 255\n",
            " 255 255 255 255 255 255 255 255 255 255 255 255 255 255 255 255 255 255\n",
            " 255 255 255 255 255 255 255 255 255 255 255 255 255 255 255 255 255 255\n",
            " 255 255 255 255 255 255 255 255 255 255 255 255 255 255 255 255 255 255\n",
            " 255 255 255 255 255 255 255 255 255 255 255 255 255 255 255 255 255 255\n",
            " 255 255 255 255 255 255 255 255 255 255 255 255 255 255 255 255 255 255\n",
            " 255 255 255 255 255 255 255 255 255 255 255 255 255 255 255 255 255 255\n",
            " 255 255 255 255 255 255 255 255 255 255 255 255 255 255 255 255 255 255\n",
            " 255 255 255 255 255 255 255 255 255 255 255 255 255 255 255 255 255 255\n",
            " 255 255 255 255 255 255 255 255 255 255 255 255 255 255 255 255 255 255\n",
            " 255 255 255 255 255 255 255 255 255 171 139 209 147 152 150 119  63  62\n",
            "  66  72  73 114  62  66  72  91  98 114 125 110  72  66  70  66 120 104\n",
            "  76  97  99  91  79  72  83  60  61  64  70 163 206 203 169  68  82  97\n",
            "  76  62 120 189 205 192 113 110 115  90  62  63  66 115 208 193 155 123\n",
            "  61  61 116 207 205 190 127  91  99  88 110 163 221 216 202 206 204 193\n",
            " 200 196 202 174 140 158 112  86  66  68  74  83  85  81  83  83  84  91\n",
            "  84 141 215 223 225 231 235 147  79  84  93  77 126 189 183 151  95  88\n",
            " 103 170 219 142  92  85  94  98  83  63  61  64  71  71  73  87  82  83\n",
            "  89  92  90  97 105 101 104 105  99  86  73  77  86  82  82  74  83  68\n",
            "  73  82  85  82  66  85  56  54  52  61  67 119 115  72  73  85 101  98\n",
            "  72 109 123  57  53  52  53  68  84  84 125 144  95  82  90 145 131  92\n",
            "  96  84 101 175 254 254 254 255 255 255 255 255 255 255 255 255 255 255\n",
            " 255 255 255 255 255 255 255 255 255 255 255 255 255 255 255 255 255 255\n",
            " 255 255 255 255 255 255 255 255 255 255 255 255 255 255 255 255 255 255\n",
            " 255 255 255 255 255 255 255 255 255 255 255 255 255 255 255 255 255 255\n",
            " 255 255 255 255 255 255 255 255 255 255 255 255 255 255 255 255 255 255\n",
            " 255 255 255 255 255 255 255 255 255 255 255 255 255 255 255 255 255 255\n",
            " 255 255 255 255 255 255 255 255 255 255 255 255 255 255 255 255 255 255\n",
            " 255 255 255 255 255 255 255 255 255 255 255 255 255 255 255 255 255 255\n",
            " 255 255 255 255 255 255 255 255 255 255 255 255 255 255 255 255 255 255\n",
            " 255 255 255 255 255 255 255 255 255 255 255 255 255 255 255 255 255 255\n",
            " 255 255 255 255 255 255 255 255 255 255 255 255 255 255 255 255 255 255\n",
            " 255 255 255 255 255 255 255 255 255 255 255 255 255 255 255 255 255 255\n",
            " 255 255 255 255 255 255 255 255 255 255 255 255 255 255 255 255 255 255\n",
            " 255 255 255 255 255 255 255 255 255 255 255 255 255 255 255 255 255 255\n",
            " 255 255 255 255 255 255]\n"
          ]
        },
        {
          "output_type": "execute_result",
          "data": {
            "text/plain": [
              "array([  0,   0,   0,   0,   0,   0,   0,   0,   0,   0,   0,   0,   0,\n",
              "         0,   0,   0,   0,   0,   0,   0,   0,   0,   0,   0,   0,   0,\n",
              "         0,   0,   0,   0,   0,   0,   0,   0,   0,   0,   0,   0,   0,\n",
              "         0,   0,   0,   0,   0,   0,   0,   0,   0,   0,   0,   0,   0,\n",
              "         0,   0,   0,   0,   0,   0,   0,   0,   0,   0,   0,   0,   0,\n",
              "         0,   0,   0,   0,   0,   0,   0,   0,   0,   0,   0,   0,   0,\n",
              "         0,   0,   0,   0,   0,   0,   0,   0,   0,   0,   0,   0,   0,\n",
              "         0,   0,   0,   0,   0,   0,   0,   0,   0,   0,   0,   0,   0,\n",
              "         0,   0,   0,   0,   0,   0,   0,   0,   0,   0,   0,   0,   0,\n",
              "         0,   0,   0,   0,   0,   0,   0,   0,   0,   0,   0,   0,   0,\n",
              "         0,   0,   0,   0,   0,   0,   0,   0,   0,   0,   0,   0,   0,\n",
              "         0,   0,   0,   0,   0,   0,   0,   0,   0,   0,   0,   0,   0,\n",
              "         0,   0,   0,   0,   0,   0,   0,   0,   0,   0,   0,   0,   0,\n",
              "         0,   0,   0,   0,   0,   0,   0,   0,   0,   0,   0,   0,   0,\n",
              "         0,   0,   0,   0,   0,   0,   0,   0,   0,   0,   0,   0,   0,\n",
              "         0,   0,   0,   0,   0,   0,   0,   0,   0,   0,   0,   0,   0,\n",
              "         0,   0,   0,   0,   0,   0,   0,   0,   0,   0,   0,   0,   0,\n",
              "         0,   0,   0,   0,   0,   0,   0,   0,   0,   0,   0,   0,   0,\n",
              "         0,   0,   0,   0,   0,   0,   0, 255,   0, 243, 236, 247, 236,\n",
              "       236, 234, 227, 217, 218, 217, 217, 218, 226, 219, 217, 217, 220,\n",
              "       221, 223, 226, 224, 219, 217, 217, 216, 225, 220, 215, 218, 218,\n",
              "       217, 217, 217, 222, 219, 219, 220, 219, 234, 244, 244, 236, 219,\n",
              "       219, 220, 219, 218, 226, 239, 242, 238, 226, 227, 227, 221, 219,\n",
              "       219, 217, 219, 227, 223, 217, 219, 219, 219, 226, 242, 242, 239,\n",
              "       228, 224, 223, 222, 225, 234, 245, 245, 242, 242, 242, 239, 240,\n",
              "       239, 241, 236, 230, 230, 224, 220, 217, 217, 217, 216, 217, 217,\n",
              "       217, 217, 217, 217, 218, 229, 244, 245, 246, 249, 250, 231, 218,\n",
              "       217, 217, 220, 222, 227, 225, 221, 219, 217, 217, 235, 247, 227,\n",
              "       216, 218, 217, 220, 221, 221, 227, 224, 220, 219, 219, 218, 218,\n",
              "       218, 218, 217, 218, 217, 217, 218, 219, 220, 219, 220, 220, 221,\n",
              "       222, 221, 220, 220, 220, 220, 220, 219, 221, 221, 221, 224, 226,\n",
              "       227, 226, 223, 221, 225, 223, 219, 220, 223, 225, 224, 228, 228,\n",
              "       231, 229, 224, 225, 224, 221, 226, 229, 235, 236, 231, 229, 232,\n",
              "       241, 241, 235, 235, 234, 236, 248,   0,   0,   0,   0,   0,   0,\n",
              "         0,   0,   0,   0,   0,   0,   0,   0,   0,   0,   0,   0,   0,\n",
              "         0,   0,   0,   0,   0,   0,   0,   0,   0,   0,   0,   0,   0,\n",
              "         0,   0,   0,   0,   0,   0,   0,   0,   0,   0,   0,   0,   0,\n",
              "         0,   0,   0,   0,   0,   0,   0,   0,   0,   0,   0,   0,   0,\n",
              "         0,   0,   0,   0,   0,   0,   0,   0,   0,   0,   0,   0,   0,\n",
              "         0,   0,   0,   0,   0,   0,   0,   0,   0,   0,   0,   0,   0,\n",
              "         0,   0,   0,   0,   0,   0,   0,   0,   0,   0,   0,   0,   0,\n",
              "         0,   0,   0,   0,   0,   0,   0,   0,   0,   0,   0,   0,   0,\n",
              "         0,   0,   0,   0,   0,   0,   0,   0,   0,   0,   0,   0,   0,\n",
              "         0,   0,   0,   0,   0,   0,   0,   0,   0,   0,   0,   0,   0,\n",
              "         0,   0,   0,   0,   0,   0,   0,   0,   0,   0,   0,   0,   0,\n",
              "         0,   0,   0,   0,   0,   0,   0,   0,   0,   0,   0,   0,   0,\n",
              "         0,   0,   0,   0,   0,   0,   0,   0,   0,   0,   0,   0,   0,\n",
              "         0,   0,   0,   0,   0,   0,   0,   0,   0,   0,   0,   0,   0,\n",
              "         0,   0,   0,   0,   0,   0,   0,   0,   0,   0,   0,   0,   0,\n",
              "         0,   0,   0,   0,   0,   0,   0,   0,   0,   0,   0,   0,   0,\n",
              "         0,   0,   0,   0,   0,   0,   0,   0,   0,   0,   0,   0,   0,\n",
              "         0,   0,   0,   0,   0,   0,   0,   0,   0,   0,   0,   0,   0,\n",
              "         0,   0,   0,   0,   0,   0,   0,   0,   0,   0,   0,   0,   0,\n",
              "         0], dtype=uint8)"
            ]
          },
          "metadata": {},
          "execution_count": 42
        }
      ]
    },
    {
      "cell_type": "code",
      "source": [
        "import cv2   # OpenCV\n",
        "#from skimage.measure import compare_ssim\n",
        "from skimage.metrics import structural_similarity as ssim\n",
        "\n",
        "# 삭제될 사진의 리스트\n",
        "delete = []\n",
        "\n",
        "\n",
        "for i in range(len(psvc_nsn)):\n",
        "    \n",
        "    # 중복된 크기(size)가 있는 경우\n",
        "    if psvc_nsn['size_counts_nsn'][i] == 2:\n",
        "        \n",
        "        # 그 크기에 해당하는 사진을 불러온다. \n",
        "        temp = fsp_nsn[fsp_nsn['size']==psvc_nsn['size'][i]].reset_index(drop = True).sort_values(['filename'])\n",
        "        \n",
        "        # 사진 읽기\n",
        "        imageA = cv2.imread('/content/drive/Shareddrives/BME캡스톤/data/strawberry/'+temp['filename_raw'][0])\n",
        "        imageB = cv2.imread('/content/drive/Shareddrives/BME캡스톤/data/strawberry/'+temp['filename_raw'][1])\n",
        "        \n",
        "        # 이미지를 grayscale로 변환\n",
        "        grayA = cv2.cvtColor(imageA,cv2.COLOR_RGB2GRAY)\n",
        "        grayB = cv2.cvtColor(imageB, cv2.COLOR_BGR2GRAY)\n",
        "        \n",
        "        # 이미지의 구조가 같다면 이미지 비교\n",
        "        if len(grayA)==len(grayB):\n",
        "            (score, diff) = ssim(grayA, grayB, full=True)\n",
        "            \n",
        "            # 차이가 없다면 하나는 delete에 넣어주기\n",
        "            if score == 1:\n",
        "                delete.append(temp['filename_raw'][1])\n",
        "            \n",
        "            # 구조가 같지만 차이가 존재한다면 직접 확인하기     \n",
        "            else:\n",
        "                print('확인해보시오! : ', temp['filename_raw'][0], '/', temp['filename_raw'][1], f'(score : {score})')"
      ],
      "metadata": {
        "id": "lhXswWmibuCu",
        "colab": {
          "base_uri": "https://localhost:8080/"
        },
        "outputId": "e2777926-addf-437f-e84f-3576795f00d7"
      },
      "execution_count": null,
      "outputs": [
        {
          "output_type": "stream",
          "name": "stdout",
          "text": [
            "확인해보시오! :  다운로드.jpg / download.jpg (score : 0.977819595477938)\n",
            "확인해보시오! :  dsjkeksn.jpg / 20220213000003506 (1).jpg (score : 0.9871611578188457)\n"
          ]
        }
      ]
    },
    {
      "cell_type": "code",
      "source": [
        "# 중복제거된 것들은 delete 리스트에 넣어주기\n",
        "delete = delete + list(fsp[~fsp['filename_raw'].isin(fsp_nsn['filename_raw'])]['filename_raw'])\n",
        "\n",
        "print('삭제할 목록 :', delete)"
      ],
      "metadata": {
        "id": "OEPaD6aCrF2G",
        "colab": {
          "base_uri": "https://localhost:8080/"
        },
        "outputId": "261d01aa-1611-4c60-fd50-3f63f5d73eb5"
      },
      "execution_count": null,
      "outputs": [
        {
          "output_type": "stream",
          "name": "stdout",
          "text": [
            "삭제할 목록 : []\n"
          ]
        }
      ]
    },
    {
      "cell_type": "markdown",
      "source": [
        "아래에껀 실행X\n"
      ],
      "metadata": {
        "id": "fBUfWCxysq2j"
      }
    },
    {
      "cell_type": "code",
      "source": [
        "# result : 처음(fsp)데이터에서 - delete를 제외한 것\n",
        "result = list(fsp[~fsp['filename_raw'].isin(delete)]['filename_raw'])\n",
        "\n",
        "print('남길 목록 : ', result)"
      ],
      "metadata": {
        "colab": {
          "base_uri": "https://localhost:8080/"
        },
        "id": "gZMO-zFlrT7o",
        "outputId": "65635dd7-105e-4f76-a00e-f4ace1950b45"
      },
      "execution_count": null,
      "outputs": [
        {
          "output_type": "stream",
          "name": "stdout",
          "text": [
            "남길 목록 :  ['leg116.jpg', 'leg114.jpg', 'leg123.jpg', 'leg115.jpg', 'leg113.jpg', 'leg112.jpg', 'leg111.jpg', 'leg109.jpg', 'leg11.jpg', 'leg108.jpg', 'leg110.jpg', 'leg106.jpg', 'leg105.jpg', 'leg107.jpg', 'leg100.jpg', 'leg103.jpg', 'leg101.jpg', 'leg104.jpg', 'leg102.jpg', 'leg10.jpg', 'leg2.jpg', 'leg20.jpg', 'leg153.jpg', 'leg151.jpg', 'leg150.jpg', 'leg15.jpg', 'leg149.jpg', 'leg146.jpg', 'leg148.jpg', 'leg147.jpg', 'leg154.jpg', 'leg145.jpg', 'leg152.jpg', 'leg144.jpg', 'leg135.jpg', 'leg143.jpg', 'leg136.jpg', 'leg141.jpg', 'leg138.jpg', 'leg142.jpg', 'leg139.jpg', 'leg14.jpg', 'leg137.jpg', 'leg140.jpg', 'leg134.jpg', 'leg126.jpg', 'leg133.jpg', 'leg130.jpg', 'leg131.jpg', 'leg13.jpg', 'leg132.jpg', 'leg129.jpg', 'leg128.jpg', 'leg127.jpg', 'leg125.jpg', 'leg124.jpg', 'leg120.jpg', 'leg119.jpg', 'leg121.jpg', 'leg12.jpg', 'leg118.jpg', 'leg117.jpg', 'leg122.jpg', 'leg5.jpg', 'leg51.jpg', 'leg57.jpg', 'leg49.jpg', 'leg46.jpg', 'leg48.jpg', 'leg44.jpg', 'leg47.jpg', 'leg45.jpg', 'leg42.jpg', 'leg52.jpg', 'leg50.jpg', 'leg43.jpg', 'leg41.jpg', 'leg39.jpg', 'leg37.jpg', 'leg34.jpg', 'leg36.jpg', 'leg38.jpg', 'leg35.jpg', 'leg33.jpg', 'leg40.jpg', 'leg32.jpg', 'leg4.jpg', 'leg3.jpg', 'leg28.jpg', 'leg29.jpg', 'leg26.jpg', 'leg25.jpg', 'leg24.jpg', 'leg27.jpg', 'leg30.jpg', 'leg31.jpg', 'leg19.jpg', 'leg17.jpg', 'leg18.jpg', 'leg155.jpg', 'leg157.jpg', 'leg16.jpg', 'leg156.jpg', 'leg23.jpg', 'leg21.jpg', 'leg22.jpg', 'leg93.jpg', 'leg91.jpg', 'leg96.jpg', 'leg92.jpg', 'leg99.jpg', 'leg94.jpg', 'leg95.jpg', 'leg97.jpg', 'leg98.jpg', 'leg81.jpg', 'leg83.jpg', 'leg82.jpg', 'leg9.jpg', 'leg88.jpg', 'leg86.jpg', 'leg89.jpg', 'leg87.jpg', 'leg85.jpg', 'leg84.jpg', 'leg90.jpg', 'leg8.jpg', 'leg78.jpg', 'leg74.jpg', 'leg75.jpg', 'leg77.jpg', 'leg76.jpg', 'leg73.jpg', 'leg80.jpg', 'leg79.jpg', 'leg70.jpg', 'leg72.jpg', 'leg64.jpg', 'leg65.jpg', 'leg69.jpg', 'leg67.jpg', 'leg7.jpg', 'leg68.jpg', 'leg66.jpg', 'leg71.jpg', 'leg62.jpg', 'leg63.jpg', 'leg53.jpg', 'leg54.jpg', 'leg58.jpg', 'leg6.jpg', 'leg59.jpg', 'leg60.jpg', 'leg56.jpg', 'leg55.jpg', 'leg61.jpg', 'leg158.jpg']\n"
          ]
        }
      ]
    },
    {
      "cell_type": "code",
      "source": [
        "import shutil\n",
        "\n",
        "for i in result:\n",
        "    shutil.move('/content/drive/Shareddrives/BME캡스톤/data/practice_none/leg/'+i, '/content/drive/Shareddrives/BME캡스톤/data/practice_none/leg/Result')\n",
        "    \n",
        "for i in delete:\n",
        "    shutil.move('/content/drive/Shareddrives/BME캡스톤/data/practice_none/leg/'+i, '/content/drive/Shareddrives/BME캡스톤/data/practice_none/leg/Delete')   "
      ],
      "metadata": {
        "id": "vU6am1MKrjPQ"
      },
      "execution_count": null,
      "outputs": []
    },
    {
      "cell_type": "code",
      "source": [
        ""
      ],
      "metadata": {
        "id": "HqhzezgGNMxg"
      },
      "execution_count": null,
      "outputs": []
    }
  ]
}